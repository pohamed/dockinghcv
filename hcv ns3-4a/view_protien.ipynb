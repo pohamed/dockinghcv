{
 "cells": [
  {
   "cell_type": "markdown",
   "metadata": {},
   "source": [
    "# How to show protien file pdb"
   ]
  },
  {
   "cell_type": "code",
   "execution_count": 2,
   "metadata": {},
   "outputs": [
    {
     "data": {
      "application/vnd.jupyter.widget-view+json": {
       "model_id": "70abbc5b209647caa4d5cd1bce0e62c1",
       "version_major": 2,
       "version_minor": 0
      },
      "text/plain": [
       "NGLWidget()"
      ]
     },
     "metadata": {},
     "output_type": "display_data"
    }
   ],
   "source": [
    "import nglview as nv\n",
    "\n",
    "# view = nv.show_pdbid(\"2D3U\") # load \"2D3U\" from RCSB PDB and display viewer widget\n",
    "view = nv.show_file(\"4k8b.pdb\")\n",
    "view.representations = [\n",
    "    {\"type\": \"cartoon\", \"params\": {\n",
    "        \"sele\": \"protein\", \"color\": \"residueindex\"\n",
    "    }},\n",
    "    {\"type\": \"ball+stick\", \"params\": {\n",
    "        \"sele\": \"ligand\"\n",
    "    }}\n",
    "]\n",
    "\n",
    "view"
   ]
  },
  {
   "cell_type": "code",
   "execution_count": null,
   "metadata": {},
   "outputs": [],
   "source": []
  }
 ],
 "metadata": {
  "kernelspec": {
   "display_name": "Python 3",
   "language": "python",
   "name": "python3"
  },
  "language_info": {
   "codemirror_mode": {
    "name": "ipython",
    "version": 3
   },
   "file_extension": ".py",
   "mimetype": "text/x-python",
   "name": "python",
   "nbconvert_exporter": "python",
   "pygments_lexer": "ipython3",
   "version": "3.7.3"
  }
 },
 "nbformat": 4,
 "nbformat_minor": 2
}
